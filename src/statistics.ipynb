{
 "cells": [
  {
   "cell_type": "code",
   "execution_count": 1,
   "metadata": {},
   "outputs": [],
   "source": [
    "import pandas as pd"
   ]
  },
  {
   "cell_type": "code",
   "execution_count": 9,
   "metadata": {},
   "outputs": [],
   "source": [
    "def read_dict(filename):\n",
    "    d = dict()\n",
    "    with open(filename, \"r\") as f:\n",
    "        for line in f:\n",
    "            line = line.strip().split(\"\\t\")\n",
    "            d[line[0]] = int(line[1])\n",
    "    return d"
   ]
  },
  {
   "cell_type": "code",
   "execution_count": 130,
   "metadata": {},
   "outputs": [],
   "source": [
    "teacher, student = \"WK3l-15k_EN\", \"WK3l-15k_FR\""
   ]
  },
  {
   "cell_type": "code",
   "execution_count": 131,
   "metadata": {},
   "outputs": [],
   "source": [
    "teacher_e_dict = read_dict(\"../data/%s/entity_dict.txt\" % (teacher))\n",
    "teacher_r_dict = read_dict(\"../data/%s/relation_dict.txt\" % (teacher))\n",
    "student_e_dict = read_dict(\"../data/%s/entity_dict.txt\" % (student))\n",
    "student_r_dict = read_dict(\"../data/%s/relation_dict.txt\" % (student))"
   ]
  },
  {
   "cell_type": "code",
   "execution_count": 132,
   "metadata": {},
   "outputs": [
    {
     "name": "stdout",
     "output_type": "stream",
     "text": [
      "26134 2491\n",
      "15393 2422\n"
     ]
    }
   ],
   "source": [
    "print(len(teacher_e_dict), len(teacher_r_dict))\n",
    "print(len(student_e_dict), len(student_r_dict))"
   ]
  },
  {
   "cell_type": "code",
   "execution_count": 133,
   "metadata": {},
   "outputs": [
    {
     "name": "stdout",
     "output_type": "stream",
     "text": [
      "220873 73624 73624\n"
     ]
    }
   ],
   "source": [
    "train = pd.read_csv(\"../data/%s/train_triple_id.txt\" % (teacher), sep=\"\\t\", header=None)\n",
    "valid = pd.read_csv(\"../data/%s/valid_triple_id.txt\" % (teacher), sep=\"\\t\", header=None)\n",
    "test = pd.read_csv(\"../data/%s/test_triple_id.txt\" % (teacher), sep=\"\\t\", header=None)\n",
    "print(train.shape[0], valid.shape[0], test.shape[0])"
   ]
  },
  {
   "cell_type": "code",
   "execution_count": 134,
   "metadata": {},
   "outputs": [
    {
     "name": "stdout",
     "output_type": "stream",
     "text": [
      "102363 34121 34121\n"
     ]
    }
   ],
   "source": [
    "train = pd.read_csv(\"../data/%s/train_triple_id.txt\" % (student), sep=\"\\t\", header=None)\n",
    "valid = pd.read_csv(\"../data/%s/valid_triple_id.txt\" % (student), sep=\"\\t\", header=None)\n",
    "test = pd.read_csv(\"../data/%s/test_triple_id.txt\" % (student), sep=\"\\t\", header=None)\n",
    "print(train.shape[0], valid.shape[0], test.shape[0])"
   ]
  },
  {
   "cell_type": "code",
   "execution_count": 136,
   "metadata": {},
   "outputs": [
    {
     "name": "stdout",
     "output_type": "stream",
     "text": [
      "2496 2458\n"
     ]
    }
   ],
   "source": [
    "df = pd.read_csv(\"wk3l-15k_en_fr_aligned_entity_id.txt\", sep=\"\\t\", header=None)\n",
    "df.columns = [\"teacher\", \"student\"]\n",
    "print(len(set(df[\"teacher\"])), len(set(df[\"student\"])))"
   ]
  },
  {
   "cell_type": "code",
   "execution_count": 137,
   "metadata": {},
   "outputs": [
    {
     "name": "stdout",
     "output_type": "stream",
     "text": [
      "1784 1784\n"
     ]
    }
   ],
   "source": [
    "df = pd.read_csv(\"wk3l-15k_en_fr_inner_aligned_entity_id.txt\", sep=\"\\t\", header=None)\n",
    "df.columns = [\"teacher\", \"student\"]\n",
    "print(len(set(df[\"teacher\"])), len(set(df[\"student\"])))"
   ]
  },
  {
   "cell_type": "code",
   "execution_count": 141,
   "metadata": {},
   "outputs": [
    {
     "name": "stdout",
     "output_type": "stream",
     "text": [
      "2092 2093\n"
     ]
    }
   ],
   "source": [
    "df = pd.read_csv(\"wk3l-15k_en_de_outer_aligned_entity_id.txt\", sep=\"\\t\", header=None)\n",
    "df.columns = [\"teacher\", \"student\"]\n",
    "print(len(set(df[\"teacher\"])), len(set(df[\"student\"])))"
   ]
  },
  {
   "cell_type": "code",
   "execution_count": null,
   "metadata": {},
   "outputs": [],
   "source": []
  }
 ],
 "metadata": {
  "kernelspec": {
   "display_name": "Python 3",
   "language": "python",
   "name": "python3"
  },
  "language_info": {
   "codemirror_mode": {
    "name": "ipython",
    "version": 3
   },
   "file_extension": ".py",
   "mimetype": "text/x-python",
   "name": "python",
   "nbconvert_exporter": "python",
   "pygments_lexer": "ipython3",
   "version": "3.6.12"
  }
 },
 "nbformat": 4,
 "nbformat_minor": 4
}
