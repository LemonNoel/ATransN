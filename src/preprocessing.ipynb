{
 "cells": [
  {
   "cell_type": "code",
   "execution_count": 2,
   "metadata": {},
   "outputs": [],
   "source": [
    "import pandas as pd"
   ]
  },
  {
   "cell_type": "code",
   "execution_count": 3,
   "metadata": {},
   "outputs": [],
   "source": [
    "def read_dict(filename):\n",
    "    d = dict()\n",
    "    with open(filename, \"r\") as f:\n",
    "        for line in f:\n",
    "            line = line.strip().split(\"\\t\")\n",
    "            d[line[0]] = int(line[1])\n",
    "    return d\n",
    "def write_dict(filename, d):\n",
    "    with open(filename, \"w\") as f:\n",
    "        for k, v in d.items():\n",
    "            f.write(k)\n",
    "            f.write(\"\\t\")\n",
    "            f.write(str(v))\n",
    "            f.write(\"\\n\")"
   ]
  },
  {
   "cell_type": "code",
   "execution_count": 421,
   "metadata": {},
   "outputs": [
    {
     "name": "stderr",
     "output_type": "stream",
     "text": [
      "/Users/sean/miniconda3/envs/pytorch/lib/python3.6/site-packages/ipykernel_launcher.py:1: ParserWarning: Falling back to the 'python' engine because the 'c' engine does not support regex separators (separators > 1 char and different from '\\s+' are interpreted as regex); you can avoid this warning by specifying engine='python'.\n",
      "  \"\"\"Entry point for launching an IPython kernel.\n",
      "/Users/sean/miniconda3/envs/pytorch/lib/python3.6/site-packages/ipykernel_launcher.py:3: ParserWarning: Falling back to the 'python' engine because the 'c' engine does not support regex separators (separators > 1 char and different from '\\s+' are interpreted as regex); you can avoid this warning by specifying engine='python'.\n",
      "  This is separate from the ipykernel package so we can avoid doing imports until\n"
     ]
    }
   ],
   "source": [
    "df1 = pd.read_csv(\"~/Downloads/data/WK3l-15k/en_de/p_en_v6.csv\", sep=\"@@@\", header=None)\n",
    "df1.columns = [\"head\", \"relation\", \"tail\"]\n",
    "df2 = pd.read_csv(\"~/Downloads/data/WK3l-15k/en_fr/p_en_v5.csv\", sep=\"@@@\", header=None)\n",
    "df2.columns = [\"head\", \"relation\", \"tail\"]"
   ]
  },
  {
   "cell_type": "code",
   "execution_count": 422,
   "metadata": {},
   "outputs": [],
   "source": [
    "df = pd.merge(df1, df2, how=\"outer\")"
   ]
  },
  {
   "cell_type": "code",
   "execution_count": 423,
   "metadata": {},
   "outputs": [
    {
     "data": {
      "text/plain": [
       "((210820, 3), (203502, 3), (370046, 3))"
      ]
     },
     "execution_count": 423,
     "metadata": {},
     "output_type": "execute_result"
    }
   ],
   "source": [
    "df1.shape, df2.shape, df.shape"
   ]
  },
  {
   "cell_type": "code",
   "execution_count": 424,
   "metadata": {},
   "outputs": [
    {
     "data": {
      "text/html": [
       "<div>\n",
       "<style scoped>\n",
       "    .dataframe tbody tr th:only-of-type {\n",
       "        vertical-align: middle;\n",
       "    }\n",
       "\n",
       "    .dataframe tbody tr th {\n",
       "        vertical-align: top;\n",
       "    }\n",
       "\n",
       "    .dataframe thead th {\n",
       "        text-align: right;\n",
       "    }\n",
       "</style>\n",
       "<table border=\"1\" class=\"dataframe\">\n",
       "  <thead>\n",
       "    <tr style=\"text-align: right;\">\n",
       "      <th></th>\n",
       "      <th>head</th>\n",
       "      <th>relation</th>\n",
       "      <th>tail</th>\n",
       "    </tr>\n",
       "  </thead>\n",
       "  <tbody>\n",
       "    <tr>\n",
       "      <th>0</th>\n",
       "      <td>alabama</td>\n",
       "      <td>name</td>\n",
       "      <td>alabama</td>\n",
       "    </tr>\n",
       "    <tr>\n",
       "      <th>1</th>\n",
       "      <td>alabama</td>\n",
       "      <td>officiallang</td>\n",
       "      <td>english</td>\n",
       "    </tr>\n",
       "    <tr>\n",
       "      <th>2</th>\n",
       "      <td>alabama</td>\n",
       "      <td>widthus</td>\n",
       "      <td>190</td>\n",
       "    </tr>\n",
       "    <tr>\n",
       "      <th>3</th>\n",
       "      <td>alabama</td>\n",
       "      <td>lowestelev</td>\n",
       "      <td>0</td>\n",
       "    </tr>\n",
       "    <tr>\n",
       "      <th>4</th>\n",
       "      <td>alabama</td>\n",
       "      <td>lowestelevus</td>\n",
       "      <td>0</td>\n",
       "    </tr>\n",
       "    <tr>\n",
       "      <th>...</th>\n",
       "      <td>...</td>\n",
       "      <td>...</td>\n",
       "      <td>...</td>\n",
       "    </tr>\n",
       "    <tr>\n",
       "      <th>370041</th>\n",
       "      <td>Ștefan kovács</td>\n",
       "      <td>manageryears</td>\n",
       "      <td>1980</td>\n",
       "    </tr>\n",
       "    <tr>\n",
       "      <th>370042</th>\n",
       "      <td>Ștefan kovács</td>\n",
       "      <td>name</td>\n",
       "      <td>Ștefan kovács</td>\n",
       "    </tr>\n",
       "    <tr>\n",
       "      <th>370043</th>\n",
       "      <td>Ștefan kovács</td>\n",
       "      <td>place of birth</td>\n",
       "      <td>romania</td>\n",
       "    </tr>\n",
       "    <tr>\n",
       "      <th>370044</th>\n",
       "      <td>Ștefan kovács</td>\n",
       "      <td>place of death</td>\n",
       "      <td>romania</td>\n",
       "    </tr>\n",
       "    <tr>\n",
       "      <th>370045</th>\n",
       "      <td>Ștefan kovács</td>\n",
       "      <td>position</td>\n",
       "      <td>midfielder</td>\n",
       "    </tr>\n",
       "  </tbody>\n",
       "</table>\n",
       "<p>370046 rows × 3 columns</p>\n",
       "</div>"
      ],
      "text/plain": [
       "                 head        relation           tail\n",
       "0             alabama            name        alabama\n",
       "1             alabama    officiallang        english\n",
       "2             alabama         widthus            190\n",
       "3             alabama      lowestelev              0\n",
       "4             alabama    lowestelevus              0\n",
       "...               ...             ...            ...\n",
       "370041  Ștefan kovács    manageryears           1980\n",
       "370042  Ștefan kovács            name  Ștefan kovács\n",
       "370043  Ștefan kovács  place of birth        romania\n",
       "370044  Ștefan kovács  place of death        romania\n",
       "370045  Ștefan kovács        position     midfielder\n",
       "\n",
       "[370046 rows x 3 columns]"
      ]
     },
     "execution_count": 424,
     "metadata": {},
     "output_type": "execute_result"
    }
   ],
   "source": [
    "df"
   ]
  },
  {
   "cell_type": "code",
   "execution_count": 425,
   "metadata": {},
   "outputs": [],
   "source": [
    "df[\"head\"] = df[\"head\"].apply(str)\n",
    "df[\"relation\"] = df[\"relation\"].apply(str)\n",
    "df[\"tail\"] = df[\"tail\"].apply(str)\n",
    "\n",
    "entities = sorted(set(df[\"head\"]) | set(df[\"tail\"]))\n",
    "relations = sorted(set(df[\"relation\"]))\n",
    "\n",
    "entity_dict = {x: i for i, x in enumerate(entities)}\n",
    "relation_dict = {x: i for i, x in enumerate(relations)}\n",
    "\n",
    "df[\"head\"] = df[\"head\"].apply(lambda x: entity_dict.get(x, -1))\n",
    "df[\"tail\"] = df[\"tail\"].apply(lambda x: entity_dict.get(x, -1))\n",
    "df[\"relation\"] = df[\"relation\"].apply(lambda x: relation_dict.get(x, -1))\n",
    "\n",
    "write_dict(\"../data/WK3l-15k_EN/entity_dict.txt\", entity_dict)\n",
    "write_dict(\"../data/WK3l-15k_EN/relation_dict.txt\", relation_dict)"
   ]
  },
  {
   "cell_type": "code",
   "execution_count": 426,
   "metadata": {},
   "outputs": [],
   "source": [
    "df = df.drop_duplicates()\n",
    "df.to_csv(\"../data/WK3l-15k_EN/triple_id.txt\", sep=\"\\t\", index=False, header=None)"
   ]
  },
  {
   "cell_type": "code",
   "execution_count": 427,
   "metadata": {},
   "outputs": [],
   "source": [
    "import random\n",
    "\n",
    "random.seed(0)\n",
    "\n",
    "indices = list(range(0, df.shape[0]))\n",
    "random.shuffle(indices)\n",
    "valid_size = test_size = df.shape[0] // 5\n",
    "train_size = df.shape[0] - valid_size - test_size\n",
    "\n",
    "train = df.iloc[indices[:train_size]]\n",
    "valid = df.iloc[indices[train_size:train_size+valid_size]]\n",
    "test = df.iloc[indices[train_size+valid_size:]]\n"
   ]
  },
  {
   "cell_type": "code",
   "execution_count": 428,
   "metadata": {},
   "outputs": [],
   "source": [
    "train.to_csv(\"../data/WK3l-15k_EN/train_triple_id.txt\", sep=\"\\t\", index=False, header=None)\n",
    "valid.to_csv(\"../data/WK3l-15k_EN/valid_triple_id.txt\", sep=\"\\t\", index=False, header=None)\n",
    "test.to_csv(\"../data/WK3l-15k_EN/test_triple_id.txt\", sep=\"\\t\", index=False, header=None)"
   ]
  },
  {
   "cell_type": "code",
   "execution_count": null,
   "metadata": {},
   "outputs": [],
   "source": []
  },
  {
   "cell_type": "code",
   "execution_count": 407,
   "metadata": {},
   "outputs": [],
   "source": [
    "teacher_dict = read_dict(\"../data/CN3l_EN/entity_dict.txt\")\n",
    "student_dict = read_dict(\"../data/CN3l_FR/entity_dict.txt\")"
   ]
  },
  {
   "cell_type": "code",
   "execution_count": 408,
   "metadata": {},
   "outputs": [
    {
     "name": "stderr",
     "output_type": "stream",
     "text": [
      "/Users/sean/miniconda3/envs/pytorch/lib/python3.6/site-packages/ipykernel_launcher.py:1: ParserWarning: Falling back to the 'python' engine because the 'c' engine does not support regex separators (separators > 1 char and different from '\\s+' are interpreted as regex); you can avoid this warning by specifying engine='python'.\n",
      "  \"\"\"Entry point for launching an IPython kernel.\n",
      "/Users/sean/miniconda3/envs/pytorch/lib/python3.6/site-packages/ipykernel_launcher.py:3: ParserWarning: Falling back to the 'python' engine because the 'c' engine does not support regex separators (separators > 1 char and different from '\\s+' are interpreted as regex); you can avoid this warning by specifying engine='python'.\n",
      "  This is separate from the ipykernel package so we can avoid doing imports until\n"
     ]
    }
   ],
   "source": [
    "df1 = pd.read_csv(\"~/Downloads/data/CN3l/en_fr/en2fr_cn.csv\", sep=\"@@@\", header=None)\n",
    "df1.columns = [\"teacher\", \"student\"]\n",
    "df2 = pd.read_csv(\"~/Downloads/data/CN3l/en_fr/fr2en_cn.csv\", sep=\"@@@\", header=None)\n",
    "df2.columns = [\"student\", \"teacher\"]"
   ]
  },
  {
   "cell_type": "code",
   "execution_count": 409,
   "metadata": {},
   "outputs": [],
   "source": [
    "df1[\"teacher\"] = df1[\"teacher\"].apply(lambda x: teacher_dict.get(x, -1))\n",
    "df1[\"student\"] = df1[\"student\"].apply(lambda x: student_dict.get(x, -1))\n",
    "df2[\"teacher\"] = df2[\"teacher\"].apply(lambda x: teacher_dict.get(x, -1))\n",
    "df2[\"student\"] = df2[\"student\"].apply(lambda x: student_dict.get(x, -1))"
   ]
  },
  {
   "cell_type": "code",
   "execution_count": 410,
   "metadata": {},
   "outputs": [
    {
     "data": {
      "text/html": [
       "<div>\n",
       "<style scoped>\n",
       "    .dataframe tbody tr th:only-of-type {\n",
       "        vertical-align: middle;\n",
       "    }\n",
       "\n",
       "    .dataframe tbody tr th {\n",
       "        vertical-align: top;\n",
       "    }\n",
       "\n",
       "    .dataframe thead th {\n",
       "        text-align: right;\n",
       "    }\n",
       "</style>\n",
       "<table border=\"1\" class=\"dataframe\">\n",
       "  <thead>\n",
       "    <tr style=\"text-align: right;\">\n",
       "      <th></th>\n",
       "      <th>student</th>\n",
       "      <th>teacher</th>\n",
       "    </tr>\n",
       "  </thead>\n",
       "  <tbody>\n",
       "    <tr>\n",
       "      <th>0</th>\n",
       "      <td>5896</td>\n",
       "      <td>106</td>\n",
       "    </tr>\n",
       "    <tr>\n",
       "      <th>1</th>\n",
       "      <td>2932</td>\n",
       "      <td>2782</td>\n",
       "    </tr>\n",
       "    <tr>\n",
       "      <th>2</th>\n",
       "      <td>1259</td>\n",
       "      <td>1034</td>\n",
       "    </tr>\n",
       "    <tr>\n",
       "      <th>3</th>\n",
       "      <td>243</td>\n",
       "      <td>231</td>\n",
       "    </tr>\n",
       "    <tr>\n",
       "      <th>4</th>\n",
       "      <td>713</td>\n",
       "      <td>772</td>\n",
       "    </tr>\n",
       "    <tr>\n",
       "      <th>...</th>\n",
       "      <td>...</td>\n",
       "      <td>...</td>\n",
       "    </tr>\n",
       "    <tr>\n",
       "      <th>2141</th>\n",
       "      <td>1452</td>\n",
       "      <td>1193</td>\n",
       "    </tr>\n",
       "    <tr>\n",
       "      <th>2142</th>\n",
       "      <td>4560</td>\n",
       "      <td>3663</td>\n",
       "    </tr>\n",
       "    <tr>\n",
       "      <th>2143</th>\n",
       "      <td>5736</td>\n",
       "      <td>5016</td>\n",
       "    </tr>\n",
       "    <tr>\n",
       "      <th>2144</th>\n",
       "      <td>4385</td>\n",
       "      <td>3798</td>\n",
       "    </tr>\n",
       "    <tr>\n",
       "      <th>2145</th>\n",
       "      <td>3923</td>\n",
       "      <td>1224</td>\n",
       "    </tr>\n",
       "  </tbody>\n",
       "</table>\n",
       "<p>2146 rows × 2 columns</p>\n",
       "</div>"
      ],
      "text/plain": [
       "      student  teacher\n",
       "0        5896      106\n",
       "1        2932     2782\n",
       "2        1259     1034\n",
       "3         243      231\n",
       "4         713      772\n",
       "...       ...      ...\n",
       "2141     1452     1193\n",
       "2142     4560     3663\n",
       "2143     5736     5016\n",
       "2144     4385     3798\n",
       "2145     3923     1224\n",
       "\n",
       "[2146 rows x 2 columns]"
      ]
     },
     "execution_count": 410,
     "metadata": {},
     "output_type": "execute_result"
    }
   ],
   "source": [
    "df2"
   ]
  },
  {
   "cell_type": "code",
   "execution_count": 411,
   "metadata": {},
   "outputs": [],
   "source": [
    "df1 = pd.DataFrame([row for row in df1.drop_duplicates().itertuples() if row[1] != -1 and row[2] != -1]).drop(columns=\"Index\")\n",
    "df2 = pd.DataFrame([row for row in df2.drop_duplicates().itertuples() if row[1] != -1 and row[2] != -1]).drop(columns=\"Index\")"
   ]
  },
  {
   "cell_type": "code",
   "execution_count": 412,
   "metadata": {},
   "outputs": [
    {
     "data": {
      "text/html": [
       "<div>\n",
       "<style scoped>\n",
       "    .dataframe tbody tr th:only-of-type {\n",
       "        vertical-align: middle;\n",
       "    }\n",
       "\n",
       "    .dataframe tbody tr th {\n",
       "        vertical-align: top;\n",
       "    }\n",
       "\n",
       "    .dataframe thead th {\n",
       "        text-align: right;\n",
       "    }\n",
       "</style>\n",
       "<table border=\"1\" class=\"dataframe\">\n",
       "  <thead>\n",
       "    <tr style=\"text-align: right;\">\n",
       "      <th></th>\n",
       "      <th>teacher</th>\n",
       "      <th>student</th>\n",
       "    </tr>\n",
       "  </thead>\n",
       "  <tbody>\n",
       "    <tr>\n",
       "      <th>0</th>\n",
       "      <td>6202</td>\n",
       "      <td>7089</td>\n",
       "    </tr>\n",
       "    <tr>\n",
       "      <th>1</th>\n",
       "      <td>2839</td>\n",
       "      <td>2974</td>\n",
       "    </tr>\n",
       "    <tr>\n",
       "      <th>2</th>\n",
       "      <td>2942</td>\n",
       "      <td>3222</td>\n",
       "    </tr>\n",
       "    <tr>\n",
       "      <th>3</th>\n",
       "      <td>3017</td>\n",
       "      <td>3425</td>\n",
       "    </tr>\n",
       "    <tr>\n",
       "      <th>4</th>\n",
       "      <td>4500</td>\n",
       "      <td>5218</td>\n",
       "    </tr>\n",
       "    <tr>\n",
       "      <th>...</th>\n",
       "      <td>...</td>\n",
       "      <td>...</td>\n",
       "    </tr>\n",
       "    <tr>\n",
       "      <th>1904</th>\n",
       "      <td>1333</td>\n",
       "      <td>3881</td>\n",
       "    </tr>\n",
       "    <tr>\n",
       "      <th>1905</th>\n",
       "      <td>915</td>\n",
       "      <td>1103</td>\n",
       "    </tr>\n",
       "    <tr>\n",
       "      <th>1906</th>\n",
       "      <td>4814</td>\n",
       "      <td>5769</td>\n",
       "    </tr>\n",
       "    <tr>\n",
       "      <th>1907</th>\n",
       "      <td>3424</td>\n",
       "      <td>6089</td>\n",
       "    </tr>\n",
       "    <tr>\n",
       "      <th>1908</th>\n",
       "      <td>2937</td>\n",
       "      <td>3214</td>\n",
       "    </tr>\n",
       "  </tbody>\n",
       "</table>\n",
       "<p>1909 rows × 2 columns</p>\n",
       "</div>"
      ],
      "text/plain": [
       "      teacher  student\n",
       "0        6202     7089\n",
       "1        2839     2974\n",
       "2        2942     3222\n",
       "3        3017     3425\n",
       "4        4500     5218\n",
       "...       ...      ...\n",
       "1904     1333     3881\n",
       "1905      915     1103\n",
       "1906     4814     5769\n",
       "1907     3424     6089\n",
       "1908     2937     3214\n",
       "\n",
       "[1909 rows x 2 columns]"
      ]
     },
     "execution_count": 412,
     "metadata": {},
     "output_type": "execute_result"
    }
   ],
   "source": [
    "df1"
   ]
  },
  {
   "cell_type": "code",
   "execution_count": 413,
   "metadata": {},
   "outputs": [
    {
     "data": {
      "text/html": [
       "<div>\n",
       "<style scoped>\n",
       "    .dataframe tbody tr th:only-of-type {\n",
       "        vertical-align: middle;\n",
       "    }\n",
       "\n",
       "    .dataframe tbody tr th {\n",
       "        vertical-align: top;\n",
       "    }\n",
       "\n",
       "    .dataframe thead th {\n",
       "        text-align: right;\n",
       "    }\n",
       "</style>\n",
       "<table border=\"1\" class=\"dataframe\">\n",
       "  <thead>\n",
       "    <tr style=\"text-align: right;\">\n",
       "      <th></th>\n",
       "      <th>student</th>\n",
       "      <th>teacher</th>\n",
       "    </tr>\n",
       "  </thead>\n",
       "  <tbody>\n",
       "    <tr>\n",
       "      <th>0</th>\n",
       "      <td>5896</td>\n",
       "      <td>106</td>\n",
       "    </tr>\n",
       "    <tr>\n",
       "      <th>1</th>\n",
       "      <td>2932</td>\n",
       "      <td>2782</td>\n",
       "    </tr>\n",
       "    <tr>\n",
       "      <th>2</th>\n",
       "      <td>1259</td>\n",
       "      <td>1034</td>\n",
       "    </tr>\n",
       "    <tr>\n",
       "      <th>3</th>\n",
       "      <td>243</td>\n",
       "      <td>231</td>\n",
       "    </tr>\n",
       "    <tr>\n",
       "      <th>4</th>\n",
       "      <td>713</td>\n",
       "      <td>772</td>\n",
       "    </tr>\n",
       "    <tr>\n",
       "      <th>...</th>\n",
       "      <td>...</td>\n",
       "      <td>...</td>\n",
       "    </tr>\n",
       "    <tr>\n",
       "      <th>1794</th>\n",
       "      <td>1452</td>\n",
       "      <td>1193</td>\n",
       "    </tr>\n",
       "    <tr>\n",
       "      <th>1795</th>\n",
       "      <td>4560</td>\n",
       "      <td>3663</td>\n",
       "    </tr>\n",
       "    <tr>\n",
       "      <th>1796</th>\n",
       "      <td>5736</td>\n",
       "      <td>5016</td>\n",
       "    </tr>\n",
       "    <tr>\n",
       "      <th>1797</th>\n",
       "      <td>4385</td>\n",
       "      <td>3798</td>\n",
       "    </tr>\n",
       "    <tr>\n",
       "      <th>1798</th>\n",
       "      <td>3923</td>\n",
       "      <td>1224</td>\n",
       "    </tr>\n",
       "  </tbody>\n",
       "</table>\n",
       "<p>1799 rows × 2 columns</p>\n",
       "</div>"
      ],
      "text/plain": [
       "      student  teacher\n",
       "0        5896      106\n",
       "1        2932     2782\n",
       "2        1259     1034\n",
       "3         243      231\n",
       "4         713      772\n",
       "...       ...      ...\n",
       "1794     1452     1193\n",
       "1795     4560     3663\n",
       "1796     5736     5016\n",
       "1797     4385     3798\n",
       "1798     3923     1224\n",
       "\n",
       "[1799 rows x 2 columns]"
      ]
     },
     "execution_count": 413,
     "metadata": {},
     "output_type": "execute_result"
    }
   ],
   "source": [
    "df2"
   ]
  },
  {
   "cell_type": "code",
   "execution_count": 418,
   "metadata": {},
   "outputs": [
    {
     "data": {
      "text/plain": [
       "(1484, 1479)"
      ]
     },
     "execution_count": 418,
     "metadata": {},
     "output_type": "execute_result"
    }
   ],
   "source": [
    "len(set(df1[\"teacher\"]) & set(df2[\"teacher\"])), len(set(df1[\"student\"]) & set(df2[\"student\"]))"
   ]
  },
  {
   "cell_type": "code",
   "execution_count": 419,
   "metadata": {},
   "outputs": [],
   "source": [
    "df = pd.merge(df1, df2, how=\"inner\")"
   ]
  },
  {
   "cell_type": "code",
   "execution_count": 420,
   "metadata": {},
   "outputs": [
    {
     "data": {
      "text/html": [
       "<div>\n",
       "<style scoped>\n",
       "    .dataframe tbody tr th:only-of-type {\n",
       "        vertical-align: middle;\n",
       "    }\n",
       "\n",
       "    .dataframe tbody tr th {\n",
       "        vertical-align: top;\n",
       "    }\n",
       "\n",
       "    .dataframe thead th {\n",
       "        text-align: right;\n",
       "    }\n",
       "</style>\n",
       "<table border=\"1\" class=\"dataframe\">\n",
       "  <thead>\n",
       "    <tr style=\"text-align: right;\">\n",
       "      <th></th>\n",
       "      <th>teacher</th>\n",
       "      <th>student</th>\n",
       "    </tr>\n",
       "  </thead>\n",
       "  <tbody>\n",
       "    <tr>\n",
       "      <th>0</th>\n",
       "      <td>6202</td>\n",
       "      <td>7089</td>\n",
       "    </tr>\n",
       "    <tr>\n",
       "      <th>1</th>\n",
       "      <td>2839</td>\n",
       "      <td>2974</td>\n",
       "    </tr>\n",
       "    <tr>\n",
       "      <th>2</th>\n",
       "      <td>2942</td>\n",
       "      <td>3222</td>\n",
       "    </tr>\n",
       "    <tr>\n",
       "      <th>3</th>\n",
       "      <td>4412</td>\n",
       "      <td>2184</td>\n",
       "    </tr>\n",
       "    <tr>\n",
       "      <th>4</th>\n",
       "      <td>5971</td>\n",
       "      <td>6860</td>\n",
       "    </tr>\n",
       "    <tr>\n",
       "      <th>...</th>\n",
       "      <td>...</td>\n",
       "      <td>...</td>\n",
       "    </tr>\n",
       "    <tr>\n",
       "      <th>1466</th>\n",
       "      <td>4646</td>\n",
       "      <td>1962</td>\n",
       "    </tr>\n",
       "    <tr>\n",
       "      <th>1467</th>\n",
       "      <td>5921</td>\n",
       "      <td>6820</td>\n",
       "    </tr>\n",
       "    <tr>\n",
       "      <th>1468</th>\n",
       "      <td>1333</td>\n",
       "      <td>3881</td>\n",
       "    </tr>\n",
       "    <tr>\n",
       "      <th>1469</th>\n",
       "      <td>4814</td>\n",
       "      <td>5769</td>\n",
       "    </tr>\n",
       "    <tr>\n",
       "      <th>1470</th>\n",
       "      <td>3424</td>\n",
       "      <td>6089</td>\n",
       "    </tr>\n",
       "  </tbody>\n",
       "</table>\n",
       "<p>1471 rows × 2 columns</p>\n",
       "</div>"
      ],
      "text/plain": [
       "      teacher  student\n",
       "0        6202     7089\n",
       "1        2839     2974\n",
       "2        2942     3222\n",
       "3        4412     2184\n",
       "4        5971     6860\n",
       "...       ...      ...\n",
       "1466     4646     1962\n",
       "1467     5921     6820\n",
       "1468     1333     3881\n",
       "1469     4814     5769\n",
       "1470     3424     6089\n",
       "\n",
       "[1471 rows x 2 columns]"
      ]
     },
     "execution_count": 420,
     "metadata": {},
     "output_type": "execute_result"
    }
   ],
   "source": [
    "df"
   ]
  },
  {
   "cell_type": "code",
   "execution_count": 406,
   "metadata": {},
   "outputs": [],
   "source": [
    "df1.to_csv(\"cn3l_en_fr_aligned_entity_id.txt\", sep=\"\\t\", index=False, header=None)"
   ]
  },
  {
   "cell_type": "code",
   "execution_count": null,
   "metadata": {},
   "outputs": [],
   "source": []
  },
  {
   "cell_type": "code",
   "execution_count": 4,
   "metadata": {},
   "outputs": [],
   "source": [
    "e_dict1 = read_dict(\"../data/DBP_DB_W/entity_dict.txt\")\n",
    "e_dict2 = read_dict(\"../data/DBP_DB_Y/entity_dict.txt\")\n",
    "r_dict1 = read_dict(\"../data/DBP_DB_W/relation_dict.txt\")\n",
    "r_dict2 = read_dict(\"../data/DBP_DB_Y/relation_dict.txt\")"
   ]
  },
  {
   "cell_type": "code",
   "execution_count": 5,
   "metadata": {},
   "outputs": [],
   "source": [
    "e_dict = {x: i for i, x in enumerate(sorted(set(e_dict1.keys()) | set(e_dict2.keys())))}\n",
    "r_dict = {x: i for i, x in enumerate(sorted(set(r_dict1.keys()) | set(r_dict2.keys())))}"
   ]
  },
  {
   "cell_type": "code",
   "execution_count": 6,
   "metadata": {},
   "outputs": [
    {
     "data": {
      "text/plain": [
       "(179271, 369)"
      ]
     },
     "execution_count": 6,
     "metadata": {},
     "output_type": "execute_result"
    }
   ],
   "source": [
    "len(e_dict), len(r_dict)"
   ]
  },
  {
   "cell_type": "code",
   "execution_count": 6,
   "metadata": {},
   "outputs": [],
   "source": [
    "write_dict(\"../data/DBP_DB/entity_dict.txt\", e_dict)\n",
    "write_dict(\"../data/DBP_DB/relation_dict.txt\", r_dict)"
   ]
  },
  {
   "cell_type": "code",
   "execution_count": 7,
   "metadata": {},
   "outputs": [],
   "source": [
    "e_dict1_rev = {v: k for k, v in e_dict1.items()}\n",
    "e_dict2_rev = {v: k for k, v in e_dict2.items()}\n",
    "r_dict1_rev = {v: k for k, v in r_dict1.items()}\n",
    "r_dict2_rev = {v: k for k, v in r_dict2.items()}"
   ]
  },
  {
   "cell_type": "code",
   "execution_count": 8,
   "metadata": {},
   "outputs": [],
   "source": [
    "df1 = pd.read_csv(\"../data/DBP_DB_W/test_triple_id.txt\", header=None, sep=\"\\t\")\n",
    "df2 = pd.read_csv(\"../data/DBP_DB_Y/test_triple_id.txt\", header=None, sep=\"\\t\")\n",
    "df1.columns = [\"head\", \"relation\", \"tail\"]\n",
    "df2.columns = [\"head\", \"relation\", \"tail\"]"
   ]
  },
  {
   "cell_type": "code",
   "execution_count": 9,
   "metadata": {},
   "outputs": [],
   "source": [
    "df1[\"head\"] = df1[\"head\"].apply(lambda x: e_dict[e_dict1_rev[x]])\n",
    "df1[\"relation\"] = df1[\"relation\"].apply(lambda x: r_dict[r_dict1_rev[x]])\n",
    "df1[\"tail\"] = df1[\"tail\"].apply(lambda x: e_dict[e_dict1_rev[x]])\n",
    "df2[\"head\"] = df2[\"head\"].apply(lambda x: e_dict[e_dict2_rev[x]])\n",
    "df2[\"relation\"] = df2[\"relation\"].apply(lambda x: r_dict[r_dict2_rev[x]])\n",
    "df2[\"tail\"] = df2[\"tail\"].apply(lambda x: e_dict[e_dict2_rev[x]])"
   ]
  },
  {
   "cell_type": "code",
   "execution_count": 63,
   "metadata": {},
   "outputs": [],
   "source": [
    "df = pd.concat([df1, df2], axis=0)"
   ]
  },
  {
   "cell_type": "code",
   "execution_count": 64,
   "metadata": {},
   "outputs": [],
   "source": [
    "df.to_csv(\"../data/DBP_DB/test_triple_id.txt\", sep=\"\\t\", index=False, header=None)"
   ]
  },
  {
   "cell_type": "code",
   "execution_count": null,
   "metadata": {},
   "outputs": [],
   "source": []
  },
  {
   "cell_type": "code",
   "execution_count": 10,
   "metadata": {},
   "outputs": [],
   "source": [
    "teacher_dict = read_dict(\"../data/DBP_DB/entity_dict.txt\")\n",
    "student_dict = read_dict(\"../data/DBP_WD/entity_dict.txt\")"
   ]
  },
  {
   "cell_type": "code",
   "execution_count": 11,
   "metadata": {},
   "outputs": [],
   "source": [
    "df1 = pd.read_csv(\"../data/SHARED/dbp_w_wd_aligned_entity_id.txt\", sep=\"\\t\", header=None)\n",
    "df1.columns = [\"teacher\", \"student\"]\n",
    "df2 = pd.read_csv(\"../data/SHARED/dbp_y_yg_aligned_entity_id.txt\", sep=\"\\t\", header=None)\n",
    "df2.columns = [\"teacher\", \"student\"]"
   ]
  },
  {
   "cell_type": "code",
   "execution_count": 12,
   "metadata": {},
   "outputs": [],
   "source": [
    "df1[\"teacher\"] = df1[\"teacher\"].apply(lambda x: e_dict2.get(e_dict1_rev[x], -1))\n",
    "df2[\"teacher\"] = df2[\"teacher\"].apply(lambda x: e_dict1.get(e_dict2_rev[x], -1))"
   ]
  },
  {
   "cell_type": "code",
   "execution_count": 14,
   "metadata": {},
   "outputs": [],
   "source": [
    "df1 = pd.DataFrame([row for row in df1.drop_duplicates().itertuples() if row[1] != -1]).drop(columns=\"Index\")\n",
    "df2 = pd.DataFrame([row for row in df2.drop_duplicates().itertuples() if row[1] != -1]).drop(columns=\"Index\")"
   ]
  },
  {
   "cell_type": "code",
   "execution_count": 24,
   "metadata": {},
   "outputs": [
    {
     "data": {
      "text/plain": [
       "(20729, 2)"
      ]
     },
     "execution_count": 24,
     "metadata": {},
     "output_type": "execute_result"
    }
   ],
   "source": [
    "df1.shape"
   ]
  },
  {
   "cell_type": "code",
   "execution_count": 25,
   "metadata": {},
   "outputs": [
    {
     "data": {
      "text/plain": [
       "(20729, 2)"
      ]
     },
     "execution_count": 25,
     "metadata": {},
     "output_type": "execute_result"
    }
   ],
   "source": [
    "df2.shape"
   ]
  },
  {
   "cell_type": "code",
   "execution_count": 17,
   "metadata": {},
   "outputs": [],
   "source": [
    "df1.to_csv(\"../data/SHARED/dbp_y_wd_aligned_entity_id.txt\", sep=\"\\t\", index=False, header=None)\n",
    "df2.to_csv(\"../data/SHARED/dbp_w_yg_aligned_entity_id.txt\", sep=\"\\t\", index=False, header=None)"
   ]
  },
  {
   "cell_type": "code",
   "execution_count": null,
   "metadata": {},
   "outputs": [],
   "source": []
  },
  {
   "cell_type": "code",
   "execution_count": 181,
   "metadata": {},
   "outputs": [],
   "source": [
    "# student\n",
    "# ent1 = [line.strip().lower().split(\" \", 1)[1][1:-4].split() for line in open(\"../data/FB15k-237/name_en_full.txt\")] \n",
    "ent1 = [line.strip().lower().split(\"\\t\", 1)[0].split(\"_\") for line in open(\"../data/WK3l-15k_EN_F/entity_dict.txt\")]"
   ]
  },
  {
   "cell_type": "code",
   "execution_count": 184,
   "metadata": {},
   "outputs": [],
   "source": [
    "# teacher\n",
    "# ent2 = [line.strip().lower().split(\" \", 1)[1][1:-4].split() for line in open(\"../data/FB15k-237/name_en_full.txt\")] \n",
    "# ent2 = [line.strip().lower().split(\"\\t\", 1)[0].split(\"_\") for line in open(\"../data/WK3l-15k_EN_F/entity_dict.txt\")]\n",
    "ent2 = [line.strip().lower().split(\"\\t\", 1)[0][28:].split(\"_\") for line in open(\"../data/DBP_DB_W/entity_dict.txt\")]"
   ]
  },
  {
   "cell_type": "code",
   "execution_count": 185,
   "metadata": {},
   "outputs": [
    {
     "name": "stdout",
     "output_type": "stream",
     "text": [
      "15169 100000\n"
     ]
    }
   ],
   "source": [
    "print(len(ent1), len(ent2))"
   ]
  },
  {
   "cell_type": "code",
   "execution_count": 186,
   "metadata": {},
   "outputs": [],
   "source": [
    "def simpson_sim(w1, w2):\n",
    "    w1 = set(w1)\n",
    "    w2 = set(w2)\n",
    "    if len(w1) == 0 and len(w2) == 0:\n",
    "        return 0\n",
    "    if len(w1) == 0 or len(w2) == 0:\n",
    "        return 0\n",
    "    return len(w1 & w2) / min(len(w1), len(w2))"
   ]
  },
  {
   "cell_type": "code",
   "execution_count": 187,
   "metadata": {},
   "outputs": [
    {
     "name": "stderr",
     "output_type": "stream",
     "text": [
      "100000it [00:00, 378833.81it/s]\n"
     ]
    }
   ],
   "source": [
    "from tqdm import tqdm\n",
    "import bisect\n",
    "sims = []\n",
    "ent1.sort()\n",
    "ent2.sort()\n",
    "ent1_str = [\" \".join(e1) for e1 in ent1]\n",
    "ent2_str = [\" \".join(e2) for e2 in ent2]\n",
    "for j, e2 in tqdm(enumerate(ent2)):\n",
    "    max_i = 0\n",
    "    max_sim = -1\n",
    "    i = bisect.bisect_left(ent1_str, e2[0])\n",
    "    while i < len(ent1):\n",
    "        e1 = ent1[i]\n",
    "        if e1[0] != e2[0]:\n",
    "           break \n",
    "        sim = simpson_sim(e1, e2)\n",
    "        if sim > max_sim:\n",
    "            max_sim = sim\n",
    "            max_i = i\n",
    "        i += 1\n",
    "    sims.append((max_i, j, max_sim))"
   ]
  },
  {
   "cell_type": "code",
   "execution_count": 188,
   "metadata": {},
   "outputs": [],
   "source": [
    "sims.sort(key=lambda x: x[2], reverse=True)"
   ]
  },
  {
   "cell_type": "code",
   "execution_count": 189,
   "metadata": {},
   "outputs": [],
   "source": [
    "ent12 = []\n",
    "for i, j, sim in sims:\n",
    "    if sim < 0.9:\n",
    "        break\n",
    "    ent12.append((i, j))"
   ]
  },
  {
   "cell_type": "code",
   "execution_count": 191,
   "metadata": {},
   "outputs": [
    {
     "name": "stdout",
     "output_type": "stream",
     "text": [
      "12555 15169 100000\n"
     ]
    }
   ],
   "source": [
    "print(len(ent12), len(ent1), len(ent2))"
   ]
  },
  {
   "cell_type": "code",
   "execution_count": 192,
   "metadata": {},
   "outputs": [
    {
     "data": {
      "text/plain": [
       "(1553, 12555)"
      ]
     },
     "execution_count": 192,
     "metadata": {},
     "output_type": "execute_result"
    }
   ],
   "source": [
    "len(set([x[0] for x in ent12])), len(set([x[1] for x in ent12]))"
   ]
  },
  {
   "cell_type": "code",
   "execution_count": 193,
   "metadata": {},
   "outputs": [],
   "source": [
    "with open(\"../data/SHARED/dbp_w_wk3l-15k_en_f_aligned_entity_id.txt\", \"w\") as f:\n",
    "    for x in ent12:\n",
    "        f.write(\"%d\\t%d\\n\" % (x[1], x[0]))"
   ]
  },
  {
   "cell_type": "code",
   "execution_count": null,
   "metadata": {},
   "outputs": [],
   "source": []
  },
  {
   "cell_type": "code",
   "execution_count": 194,
   "metadata": {},
   "outputs": [],
   "source": [
    "with open(\"../data/SHARED/wk3l-15k_en_f_fr_aligned_entity_id.txt\") as f:\n",
    "    lines = f.readlines()\n",
    "with open(\"../data/SHARED/wk3l-15k_fr_en_f_aligned_entity_id.txt\", \"w\") as f:\n",
    "    for line in lines:\n",
    "        line = line.split()\n",
    "        f.write(\"%s\\t%s\\n\" % (line[1], line[0]))"
   ]
  },
  {
   "cell_type": "code",
   "execution_count": 195,
   "metadata": {},
   "outputs": [],
   "source": [
    "df1 = pd.read_csv(\"../data/SHARED/wk3l-15k_fr_en_f_aligned_entity_id.txt\", header=None, sep=\"\\t\")\n",
    "df2 = pd.read_csv(\"../data/SHARED/dbp_w_wk3l-15k_en_f_aligned_entity_id.txt\", header=None, sep=\"\\t\")\n",
    "df3 = pd.read_csv(\"../data/SHARED/fb15k_wk3l-15k_en_f_aligned_entity_id.txt\", header=None, sep=\"\\t\")"
   ]
  },
  {
   "cell_type": "code",
   "execution_count": 196,
   "metadata": {},
   "outputs": [],
   "source": [
    "df1.columns = [\"teacher\", \"student\"]\n",
    "df2.columns = [\"teacher\", \"student\"]\n",
    "df3.columns = [\"teacher\", \"student\"]"
   ]
  },
  {
   "cell_type": "code",
   "execution_count": 198,
   "metadata": {},
   "outputs": [
    {
     "name": "stdout",
     "output_type": "stream",
     "text": [
      "(2496, 2) (12555, 2) (3320, 2)\n"
     ]
    }
   ],
   "source": [
    "print(df1.shape, df2.shape, df3.shape)"
   ]
  },
  {
   "cell_type": "code",
   "execution_count": 199,
   "metadata": {},
   "outputs": [
    {
     "name": "stdout",
     "output_type": "stream",
     "text": [
      "(18371, 2)\n"
     ]
    }
   ],
   "source": [
    "df = pd.concat([df1, df2, df3], axis=0)\n",
    "print(df.shape)"
   ]
  },
  {
   "cell_type": "code",
   "execution_count": 200,
   "metadata": {},
   "outputs": [
    {
     "data": {
      "text/plain": [
       "4155"
      ]
     },
     "execution_count": 200,
     "metadata": {},
     "output_type": "execute_result"
    }
   ],
   "source": [
    "len(set(df[\"student\"]))"
   ]
  },
  {
   "cell_type": "code",
   "execution_count": null,
   "metadata": {},
   "outputs": [],
   "source": []
  }
 ],
 "metadata": {
  "kernelspec": {
   "display_name": "Python 3",
   "language": "python",
   "name": "python3"
  },
  "language_info": {
   "codemirror_mode": {
    "name": "ipython",
    "version": 3
   },
   "file_extension": ".py",
   "mimetype": "text/x-python",
   "name": "python",
   "nbconvert_exporter": "python",
   "pygments_lexer": "ipython3",
   "version": "3.6.12"
  }
 },
 "nbformat": 4,
 "nbformat_minor": 4
}
